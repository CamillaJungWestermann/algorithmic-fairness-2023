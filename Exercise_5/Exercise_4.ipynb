{
 "cells": [
  {
   "attachments": {},
   "cell_type": "markdown",
   "metadata": {
    "id": "VZTQoQfZr6af"
   },
   "source": [
    "# Lecture 5: Source of Bias\n",
    "This notebook is a part of the [Algorithmic Fairness, Accountability and Ethics (Spring 2023)](https://learnit.itu.dk/course/view.php?id=3021608) at [IT-University of Copenhagen](https://itu.dk/)\n",
    "\n",
    "#### Ex.5.4: Data Analysis on the ProPublica Dataset \n",
    "\n",
    "**The goal of this exercise is to have you interact with the COMPAS dataset, to clean the dataset for analysis, extract insight, visualize findings, and replicate a part of the ProPublica's analysis. If you have worked already with the COMPAS dataset and find the exercise boring or redundant, consider working on the other exercises, or working on analyzing possible biases in a data set of your choice**\n",
    "\n",
    "Please remember to use materials on [LearnIT](https://learnit.itu.dk/course/view.php?id=3020962) under Lecture 2 - Study Materials:\n",
    "* Social Data: Biases, Methodological Pitfalls, and Ethical Boundaries\n",
    "* A Survey on Bias and Fairness in Machine Learning\n",
    "* Fairness and machine learning: Introduction Chapter\n",
    "\n",
    "Also refer to the [How we analyzed the COMPAS Recidivism Algorithm](https://www.propublica.org/article/how-we-analyzed-the-compas-recidivism-algorithm) (Article) and [ProPublica Github Repository](https://github.com/propublica/compas-analysis/).\n"
   ]
  },
  {
   "attachments": {},
   "cell_type": "markdown",
   "metadata": {
    "id": "BbsAddZsr6am"
   },
   "source": [
    "#### Loading and surveying the data\n",
    "* Load the dataset `compas-scores-two-years.csv`"
   ]
  },
  {
   "attachments": {},
   "cell_type": "markdown",
   "metadata": {
    "colab": {
     "base_uri": "https://localhost:8080/"
    },
    "id": "hvvtgUd5r6aq",
    "outputId": "e797eb31-943f-4227-f386-4863b19af17f"
   },
   "source": [
    "#### Columns of Interest:\n",
    "* `age` - Age of the defendant. It is numeric.\n",
    "* `age_cat` - Category of Age. It can be < 25, 25-45, >45.\n",
    "* `sex` - Sex of the defendant. It is either 'Male' or 'Female'\n",
    "* `race` - Race of the defendant. It can be 'African-American', 'Caucasian', 'Hispanic', 'Asian', or 'Other'.\n",
    "* `c_charge_degree` - Degree of the crime. It is either M (Misdemeanor), F (Felony), or O (not causing jail time).\n",
    "* `priors_count` - Count of prior crimes committed by the defendant. It is numeric.\n",
    "* `days_b_screening_arrest` - Days between the arrest and COMPAS screening.\n",
    "* `decile_score` - The COMPAS score predicted by the system. It is between 0-10.\n",
    "* `score_text` - Category of decile score. It can be Low (1-4), Medium (5-7), and High (8-10).\n",
    "* `is_recid` - A variable to indicate if recidivism was done by the defendant. It can be 0, 1, -1.\n",
    "* `two_year_recid` - A variable to indicate if recidivism was done by the defendant within two years.\n",
    "* `c_jail_in` - Time when the defendant was jailed.\n",
    "* `c_jail_out` - Time when the defendant was released from the jail."
   ]
  },
  {
   "attachments": {},
   "cell_type": "markdown",
   "metadata": {
    "id": "vXMFKrptr6at"
   },
   "source": [
    "#### Data Cleaning\n",
    "Now that we have surveyed the dataset, let's look into cleaning the data. This data-cleaning is largely based off of ProPublica's methods. Requerements for the data filtering:\n",
    "1. We only focus on cases where the COMPAS scored crime happened within +/- 30 days from when the person was arrested (if the value is missing, the record shoudl be removed). \n",
    "2. Then, we also get rid of cases where is_recid is -1 since we only want binary values for the purpose of our model (0 for no recidivism, 1 for yes recidivism). \n",
    "3. Finally, we don't want the c_charge_degree to be \"O\" which denotes ordinary traffic offenses (not as serious of a crime). \n",
    "\n",
    "Finish cleaning the dataset by filling in the code below based on the description above. The cleaned dataset should have 6172 records and 13 features.\n",
    "\n",
    "(***Optional**) Create a \"Lenghts of stay in jail\" feature (you can compute this feature using `c_jail_in` and `c_jail_out`) and use it in the exercise*"
   ]
  },
  {
   "attachments": {},
   "cell_type": "markdown",
   "metadata": {
    "id": "nqM7du9Qr6a4"
   },
   "source": [
    "#### Exploratory data Analysis"
   ]
  },
  {
   "cell_type": "markdown",
   "metadata": {
    "id": "lkQ8dDkXr6a6"
   },
   "source": [
    "First, study basic statistics of the dataset (in case you make plots, make sure that you provide labels and titles)\n",
    "* Frequency of different attributes (such as race, age, decile score, prio_counts)\n",
    "* General descriptive statistics of the dataset"
   ]
  },
  {
   "attachments": {},
   "cell_type": "markdown",
   "metadata": {},
   "source": [
    "#### Bias Analysis"
   ]
  },
  {
   "attachments": {},
   "cell_type": "markdown",
   "metadata": {
    "id": "JpyxCGjyr6bP"
   },
   "source": [
    "* Study the distribution of the recidivism score `decile_score` for different categories: does recidivism have the same distribution for different races? For different genders?\n",
    "    * Make sure that your plots are comparable (e.g. axes have same scale)\n",
    "* If it is not distributed in the same way, which biases do you identify in the input dataset that can lead to different distributions? Think about \"how data can unintentionally discriminate\" from the theory class\n",
    "* Is there a measurement bias? Explain\n",
    "* Is there a population bias? Explain\n",
    "* Is there a sampling bias? Explain\n",
    "* Look at the correlation between features. What can you notice? How could this affect the recidivism score? (*you can use `nominal` method from `dython` package to find correlations between categorical and continious variables (if not sure check the lecture slides). Read documentation to get more info.*)\n"
   ]
  },
  {
   "attachments": {},
   "cell_type": "markdown",
   "metadata": {
    "id": "hzQZE_our6bY"
   },
   "source": [
    "#### Replicating ProPublica Analysis\n",
    "Propublica used the COMPAS scores to predict recidivism if the score was >=5 and no recidivism if the score was < 5.\n",
    "\n",
    "This is not a complete analysis since it solely uses the decile score and does a hard thresholding for prediction, discarding all other aspects of individuals. But let's reproduce it anyway.\n",
    "\n",
    "Let's call this thresholded version of predicted recividism `predicted_recid`."
   ]
  },
  {
   "cell_type": "markdown",
   "metadata": {
    "id": "Wnbyz1Jfr6bf"
   },
   "source": [
    "* Compute and compare the confusion matrix for each of the races\n",
    "* Compute and compare the error rate, false positive rate, and false negative rate for each of the races\n",
    "* What do you conclude?"
   ]
  },
  {
   "attachments": {},
   "cell_type": "markdown",
   "metadata": {},
   "source": [
    "#### References\n",
    "- https://github.com/propublica/compas-analysis/\n",
    "- https://www.propublica.org/article/how-we-analyzed-the-compas-recidivism-algorithm\n",
    "- https://mit-serc.pubpub.org/pub/risk-prediction-in-cj/release/2"
   ]
  },
  {
   "cell_type": "code",
   "execution_count": null,
   "metadata": {},
   "outputs": [],
   "source": []
  }
 ],
 "metadata": {
  "colab": {
   "collapsed_sections": [
    "gQ1U5M3Pr6bE",
    "wd942zEor6bu",
    "Y_mSlszqr6bx"
   ],
   "name": "Homework 1.ipynb",
   "provenance": [],
   "toc_visible": true
  },
  "kernelspec": {
   "display_name": "compute",
   "language": "python",
   "name": "python3"
  },
  "language_info": {
   "codemirror_mode": {
    "name": "ipython",
    "version": 3
   },
   "file_extension": ".py",
   "mimetype": "text/x-python",
   "name": "python",
   "nbconvert_exporter": "python",
   "pygments_lexer": "ipython3",
   "version": "3.8.8"
  },
  "vscode": {
   "interpreter": {
    "hash": "b66e775aadc6659a150e5db1c9dc434a5685437ba1c39e35e02d292bfb6e5d60"
   }
  }
 },
 "nbformat": 4,
 "nbformat_minor": 4
}
