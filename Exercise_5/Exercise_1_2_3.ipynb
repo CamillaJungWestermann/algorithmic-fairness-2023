{
 "cells": [
  {
   "attachments": {},
   "cell_type": "markdown",
   "metadata": {
    "id": "VZTQoQfZr6af"
   },
   "source": [
    "# Lecture 5: Source of Bias\n",
    "This notebook is a part of the [Algorithmic Fairness, Accountability and Ethics (Spring 2023)](https://learnit.itu.dk/course/view.php?id=3021608) at [IT-University of Copenhagen](https://itu.dk/)\n",
    "\n",
    "#### Ex.5.1: Data Analysis on the Berkeley admissions in 1973"
   ]
  },
  {
   "attachments": {},
   "cell_type": "markdown",
   "metadata": {
    "id": "BbsAddZsr6am"
   },
   "source": [
    "1. The dataset `BerkeleyAdmissionsData.csv` is a three-way table that presents admissions data at the University of California, Berkeley in 1973 according to the variables department (A, B, C, D, E), gender (male, female), and outcome (admitted, denied) encoded as Yes and No.\n",
    "2. Load the dataset\n",
    "3. Did Berkley admissions in 1973 suffered from gender bias? Why or why not?\n",
    "    * What methods or metric did you use?\n",
    "    * Could you find any signs of the Simpson's Paradox (a form of aggregation bias)? What methods did you use? \n",
    "    * When you complete the exercise, have a look at [the original paper](https://homepage.stat.uiowa.edu/~mbognar/1030/Bickel-Berkeley.pdf)"
   ]
  },
  {
   "attachments": {},
   "cell_type": "markdown",
   "metadata": {},
   "source": [
    "#### Ex.5.2: Correlation \n",
    "*Inspired by the [Social Data Science and Visualisation Lecture](https://github.com/suneman/socialdata2023/blob/main/lectures/Week2.ipynb) by Sune Lehmann*\n",
    "\n",
    "You will be working with the `Data1.tsv`, `Data2.tsv`, `Data3.tsv`, `Data4.tsv`. The format is .tsv, which stands for tab separated values.  Each file has two columns (separated using the tab character). The first column is $x$-values, and the second column is $y$-values.\n",
    "\n",
    "1. **Calculate simple statistics**\n",
    "    1. Calculate *mean* and *variance* for $x$ and $y$ variables for each dataset (separately).\n",
    "    2. Calculate *Pearson's* and *Spearman's* correlation coefficients between $x$ and $y$ variables for each dataset (separatelly)\n",
    "    3. Fit a straight line trought each dataset. In Python you can do it like:\n",
    "    ```\n",
    "    from scipy import stats\n",
    "    slope, intercept, r_value, p_value, std_err = stats.linregress(x,y)\n",
    "    ```\n",
    "    4. You should get a set of results for each dataset. Compare them, what do you observe?\n",
    "2. **Visualise datasets**\n",
    "    1. For each dataset make a plot (including the linear fit)\n",
    "    2. What do you observe? How does it correspond to the results from the previous subsection?\n",
    "    3. After you complete the exercise [look here](https://en.wikipedia.org/wiki/Anscombe%27s_quartet)."
   ]
  },
  {
   "attachments": {},
   "cell_type": "markdown",
   "metadata": {},
   "source": [
    "#### Ex.5.3: Class Imbalance\n",
    "You will work with the **A Survey on Bias and Fairness in Machine Learning** and **Social Data: Biases, Methodological Pitfalls, and Ethical Boundaries** as well as **Fairness and Machine Learning: Introduction Chapter** (find it on the [LearnIT](https://learnit.itu.dk/course/view.php?id=3020962) under Lecture 2: Study Materials):\n",
    "\n",
    "* Review biases in the survey, **make a list of bias mechanisms that can lead to class imbalance** (include argumentation and examples).\n",
    "\n"
   ]
  }
 ],
 "metadata": {
  "colab": {
   "collapsed_sections": [
    "gQ1U5M3Pr6bE",
    "wd942zEor6bu",
    "Y_mSlszqr6bx"
   ],
   "name": "Homework 1.ipynb",
   "provenance": [],
   "toc_visible": true
  },
  "kernelspec": {
   "display_name": "compute",
   "language": "python",
   "name": "python3"
  },
  "language_info": {
   "codemirror_mode": {
    "name": "ipython",
    "version": 3
   },
   "file_extension": ".py",
   "mimetype": "text/x-python",
   "name": "python",
   "nbconvert_exporter": "python",
   "pygments_lexer": "ipython3",
   "version": "3.8.8"
  },
  "vscode": {
   "interpreter": {
    "hash": "b66e775aadc6659a150e5db1c9dc434a5685437ba1c39e35e02d292bfb6e5d60"
   }
  }
 },
 "nbformat": 4,
 "nbformat_minor": 4
}
