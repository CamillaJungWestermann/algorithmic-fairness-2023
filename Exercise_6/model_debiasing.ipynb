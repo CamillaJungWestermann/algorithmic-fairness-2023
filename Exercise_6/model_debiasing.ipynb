{
 "cells": [
  {
   "cell_type": "code",
   "execution_count": null,
   "metadata": {},
   "outputs": [],
   "source": [
    "from folktables.acs import adult_filter\n",
    "from folktables import ACSDataSource, BasicProblem, generate_categories\n",
    "import numpy as np\n",
    "from sklearn.model_selection import train_test_split\n",
    "from sklearn.linear_model import LogisticRegression\n",
    "from sklearn.metrics import balanced_accuracy_score, matthews_corrcoef\n",
    "from sklearn.model_selection import KFold\n",
    "import scipy.optimize as opt\n",
    "import matplotlib.pyplot as plt"
   ]
  },
  {
   "attachments": {},
   "cell_type": "markdown",
   "metadata": {},
   "source": [
    "### 1. Load and Preprocess the data\n",
    "We are going to work with the [Folktables](https://github.com/socialfoundations/folktables#quick-start-examples) dataset (*you have already worked with it*). I have chosen some variables for you, but you can add more (*if you like to*) - here is the [full list](https://www2.census.gov/programs-surveys/acs/tech_docs/pums/data_dict/PUMS_Data_Dictionary_2021.pdf) of variables (some of them do not exist in `ACSDataSource`). \n",
    "\n",
    "Today we are going to debias a regression model using the `SEX` variable. Your model should predict the *Total person's income*  (I've digitized  it in  `target_transform=lambda x: x > 25000`, you can choose another threshold).\n",
    "\n",
    "\n",
    "* If you code is slow - you can subsample data (aka reduce the number of the samples)"
   ]
  },
  {
   "cell_type": "code",
   "execution_count": 2,
   "metadata": {},
   "outputs": [],
   "source": [
    "data_source = ACSDataSource(survey_year='2018', horizon='1-Year', survey='person')\n",
    "acs_data = data_source.get_data(states=[\"CA\"], download=True)\n",
    "\n",
    "ACSIncomeNew = BasicProblem(\n",
    "    features=[\n",
    "        'AGEP', # include AGE\n",
    "        'COW', # include class of worker\n",
    "        'SCHL', # include school education\n",
    "        'WKHP', # include reported working hours\n",
    "        'SEX', # include sex\n",
    "        # some random, possibly noisy\n",
    "        'PWGTP', # person weight\n",
    "        'JWMNP', # travel time to work\n",
    "    ],\n",
    "    target='PINCP',\n",
    "    target_transform=lambda x: x > 25000,    \n",
    "    group='SEX',\n",
    "    preprocess=adult_filter,\n",
    "    postprocess=lambda x: np.nan_to_num(x, -1),\n",
    ")"
   ]
  },
  {
   "attachments": {},
   "cell_type": "markdown",
   "metadata": {},
   "source": [
    "Here is a small snippet to get the names of the categorical variables - I convert categoricals into one-hot encoded (*you don't have to, depending on what assumptions you use about the data*). **Don't forget to normalise the continious features (if you plan to use Cross-Validation features should be normalized per fold, aka not in the global table).**"
   ]
  },
  {
   "cell_type": "code",
   "execution_count": null,
   "metadata": {},
   "outputs": [],
   "source": [
    "definition_df = data_source.get_definitions(download=True)\n",
    "categories = generate_categories(features=ACSIncomeNew.features, definition_df=definition_df)\n",
    "# here I convert categoricals into one-hot encoded (you don't have to, depending on what assumptions you use about the data)\n",
    "features, labels, groups = ACSIncomeNew.df_to_pandas(acs_data, categories=categories, dummies=True)\n",
    "########### Normalize continious features\n",
    "## YOUR CODE (if relevant)\n",
    "###########\n",
    "features.head()"
   ]
  },
  {
   "attachments": {},
   "cell_type": "markdown",
   "metadata": {},
   "source": [
    "Spliting data into train-test. **Again, if you plan to use Cross-Validation then you should normalise features only inside of a fold**."
   ]
  },
  {
   "cell_type": "code",
   "execution_count": 4,
   "metadata": {},
   "outputs": [],
   "source": [
    "X_train, X_test, y_train, y_test, group_train, group_test = train_test_split(\n",
    "    features.values, labels.values.reshape(-1), groups.values.reshape(-1), test_size=0.3, random_state=0, shuffle=True)\n",
    "\n",
    "N = 1000 ### I am subsampling because it is slow on my machine\n",
    "X_train = X_train[:N]\n",
    "y_train = y_train[:N]"
   ]
  },
  {
   "attachments": {},
   "cell_type": "markdown",
   "metadata": {},
   "source": [
    "### 2.  Regression model (without Fairness constraints)\n",
    "Let's first train a simple **Logistic Regression**. \n",
    "1. Use L2 penalty to train the model (you should find the optimal value for the regularizer)\n",
    "2. Calculate the total performance metric\n",
    "3. Calculate and compare the perforformanc metric for each `SEX` group (use your favourite metric introduced during the course)."
   ]
  },
  {
   "cell_type": "code",
   "execution_count": null,
   "metadata": {},
   "outputs": [],
   "source": [
    "##########\n",
    "### YOUR CODE HERE\n",
    "##########"
   ]
  },
  {
   "attachments": {},
   "cell_type": "markdown",
   "metadata": {},
   "source": [
    "### 3. Constrained Regression Model \n",
    "Now let's try to include the [Fairness Constraint](https://arxiv.org/abs/1706.02409)! You'll have to implement couple of things from scratch (as it is tricky to add a custom constraint function in `sklearn`.  To optimise the cost function let's use `scipy.optimize.fmin_tnc`. To calculate gradient you can use `fprime` attribute):\n",
    "1. Logistic Regression\n",
    "2. L2 penalisation\n",
    "3. **Individual** Fairness Constrained\n",
    "\n",
    "When you are finished with implementation - you should evaluate performance on multiple choices of fairness weight, $\\lambda$."
   ]
  },
  {
   "attachments": {},
   "cell_type": "markdown",
   "metadata": {},
   "source": [
    "#### Detailed breakdown\n",
    "The INDIVIDUAL constraint constraint looks like this:\n",
    "\n",
    "$$ \n",
    "f(\\beta,S) = \\left( \\frac{1}{n_1 n_2} \\sum\\limits{(x_i,y_i)\\in S_1 \\\\ (x_i,y_i)\\in S_2} d(y_i,y_j) (\\beta^T  \\textbf{x}_i - \\beta^T \\textbf{x}_j)^2  \\right) \n",
    "$$\n",
    "\n",
    "\n",
    "For the constrained optimization we have to solve a problem on the form:\n",
    "\n",
    "$$ \\min_\\beta \\left( \\ell (\\beta,S) + \\lambda f(\\beta,S)  +\\gamma \\Vert \\beta \\Vert_2 \\right) $$ \n",
    "\n",
    "where $\\ell$ is some loss function, $f$ is the constraint function, and the $\\gamma \\Vert \\beta \\Vert_2 $ is L2 regularization (we use it to avoid overfitting).\n",
    "(Basically we are minimizing the Lagrangian $\\mathscr{L} = \\ell (\\beta,S) + \\lambda f(\\beta,S)  +\\gamma \\Vert \\textbf{x} \\Vert_2$ with respect to $\\beta$ - in ML literature $\\mathscr{L}$ is often denoted as J)\n",
    "\n",
    "Because we are doing classification we are going to use logistic regression. The log loss function is:\n",
    "$$\n",
    "\\ell = \\frac{1}{m}\\sum_i^m\\left[ -y_i \\log(g(x_i)) - (1-y_i)\\log(1-g(x_i)) \\right], \\text{where } g(x_i) = \\frac{1}{1+\\exp(-\\beta_i x_i)}\n",
    "$$\n",
    "\n",
    "For the distance function we follow the approach from Berk et al. (2017) and set:\n",
    "$$d(y_i,y_j) = \\begin{cases}\n",
    "            1, &         \\text{if } y_i=y_j,\\\\\n",
    "            0, &         \\text{if } y_i\\neq y_j.\n",
    "    \\end{cases}$$\n",
    "    \n",
    "To minimize the total loss function we also need to estimate the gradient of $\\mathscr{L}$ with respect to $\\beta$. Here to update the $\\beta$ values we are just going the gradient's without the fairness constraing - this will make our lives considerably easier. The j'th element of the gradiend is defined as follows:\n",
    "$$\n",
    "\\frac{\\partial \\mathscr{L}}{\\partial \\beta_j} \\approx \\frac{1}{m}\\left( \\sum_i  (g(x_i) - y_i) x[j] \\right)+ 2\\gamma \\beta_j\n",
    "$$\n",
    "\n",
    "##### A little clarification and tips:\n",
    "1. In order to simplify the exercise - we cut some corners. *Ideally* we should calculate the gradient in respect to the *individual fairness*. The gradient takes into the account only logistic and l2 loss (aka, parameters are updated based on those). At the same time, our *cost* has a *individual fairness* included. When the update of the parameters stops decreasing the cost, the `fmin_tnc` is going to stop optimisation. So our implementation is not entirely correct.\n",
    "2. In case you want to have a more correct implementation, you can do `opt.fmin_tnc(func=compute_cost, x0=betas, fprime = None, approx_grad= True, ...)`. It is quite long, but you can still do it\n",
    "3. I also suggest setting `ftol=1e-5`. \n",
    "4. Don not apply l2-regularization on the intercept (when you calculate the gradient).\n",
    "5. You should include $x_0 = 1$ in your data, for each observation (when it comes to the manual implementation of logistic regression) to include bias (i.e. weight $\\beta_0$).\n",
    "6. To keep the exercise simpler, let's fix $\\gamma = 1e-5$.\n",
    "7. Try $lambda$ is a range from around $1$ to $1e5$."
   ]
  },
  {
   "cell_type": "code",
   "execution_count": 8,
   "metadata": {},
   "outputs": [],
   "source": [
    "def sigmoid(x, eps = 1e-10):\n",
    "    \"\"\"\n",
    "    This is logistic regression\n",
    "    f = 1/(1+exp(-beta^T * x))\n",
    "    This function assumes as input that you have already multiplied beta and X together\n",
    "    \"\"\"\n",
    "    NotImplemented\n",
    "\n",
    "def logistic_loss(y_true, y_pred, eps = 1e-10):\n",
    "    \"\"\"\n",
    "    Loss for the logistic regression, y_preds are probabilities\n",
    "    eps: epsilon for stability\n",
    "    \"\"\"\n",
    "    NotImplemented\n",
    "\n",
    "def l2_loss(beta):\n",
    "    \"\"\"\n",
    "    L2-Regularisation\n",
    "    \"\"\"\n",
    "    NotImplemented\n",
    "\n",
    "def fair_loss(y, y_pred, groups):\n",
    "    \"\"\"\n",
    "    Group fairness Loss\n",
    "    \"\"\"\n",
    "    n = y.shape[0]\n",
    "    n1 = np.sum(groups == 1)\n",
    "    n2 = np.sum(groups == 2)\n",
    "    cost = 0\n",
    "    NotImplemented\n",
    "    return (cost/(n1*n2))\n",
    "\n",
    "def compute_gradient(beta,X,y, groups, _lambda,_gamma):\n",
    "    \"\"\"Calculate the gradient - used for finding the best beta values. \n",
    "       You do not need to use groups and lambda (fmin_tnc expects same input as in func, that's why they are included here)\"\"\"\n",
    "    grad = np.zeros(beta.shape)\n",
    "    NotImplemented\n",
    "\n",
    "    for i in range(len(grad)):\n",
    "        if i == 0: # we do not want to regularize the intercept\n",
    "            grad[i] =  ...\n",
    "        else:\n",
    "            grad[i] = ...\n",
    "        \n",
    "    return grad\n",
    "\n",
    "def compute_cost(beta ,X,y, groups, _lambda, _gamma):\n",
    "    \"\"\"Computes cost function with constraints\"\"\"\n",
    "    NotImplemented\n",
    "    probs = sigmoid(X.dot(beta))\n",
    "    loss = log_loss + _lambda * fair_loss(y,X.dot(beta), groups) + _gamma * l2_loss(beta[1:])\n",
    "\n",
    "\n",
    "\n",
    "\n",
    "\n",
    "beta = np.random.rand(\"number of features here\")\n",
    "lambdas = np.linspace(1,1e5, 20)\n",
    "\n",
    "########## This is the optimisation function\n",
    "#result = opt.fmin_tnc(func=compute_cost, x0=betas, fprime = compute_gradient, maxfun = 500,\n",
    "#                          args = (X,y, groups, lambda_,1e-5), xtol=1e-7, ftol=1e-5)"
   ]
  }
 ],
 "metadata": {
  "kernelspec": {
   "display_name": "graph",
   "language": "python",
   "name": "python3"
  },
  "language_info": {
   "codemirror_mode": {
    "name": "ipython",
    "version": 3
   },
   "file_extension": ".py",
   "mimetype": "text/x-python",
   "name": "python",
   "nbconvert_exporter": "python",
   "pygments_lexer": "ipython3",
   "version": "3.9.12"
  },
  "orig_nbformat": 4
 },
 "nbformat": 4,
 "nbformat_minor": 2
}
