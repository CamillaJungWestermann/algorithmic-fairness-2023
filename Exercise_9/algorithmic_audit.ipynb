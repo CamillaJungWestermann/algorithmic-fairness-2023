{
 "cells": [
  {
   "cell_type": "markdown",
   "id": "dc826c63",
   "metadata": {},
   "source": [
    "# Data analysis in the Amazon audit\n",
    "Most of the materials in this notebook were kindly provided by Piotr Sapiezynski (www.sapiezynski.com)"
   ]
  },
  {
   "attachments": {},
   "cell_type": "markdown",
   "id": "54b43ed9",
   "metadata": {},
   "source": [
    "#### The motivation behind the analysis\n",
    "Read it here: [Amazon Puts Its Own “Brands” First](https://themarkup.org/amazons-advantage/2021/10/14/amazon-puts-its-own-brands-first-above-better-rated-products)"
   ]
  },
  {
   "cell_type": "code",
   "execution_count": 1,
   "id": "ee44a271",
   "metadata": {},
   "outputs": [],
   "source": [
    "import pandas as pd\n",
    "from sklearn.model_selection import train_test_split\n",
    "import statsmodels.api as sm\n",
    "from statsmodels.tools.tools import add_constant"
   ]
  },
  {
   "cell_type": "code",
   "execution_count": 2,
   "id": "c3a63e89",
   "metadata": {},
   "outputs": [
    {
     "data": {
      "text/html": [
       "<div>\n",
       "<style scoped>\n",
       "    .dataframe tbody tr th:only-of-type {\n",
       "        vertical-align: middle;\n",
       "    }\n",
       "\n",
       "    .dataframe tbody tr th {\n",
       "        vertical-align: top;\n",
       "    }\n",
       "\n",
       "    .dataframe thead th {\n",
       "        text-align: right;\n",
       "    }\n",
       "</style>\n",
       "<table border=\"1\" class=\"dataframe\">\n",
       "  <thead>\n",
       "    <tr style=\"text-align: right;\">\n",
       "      <th></th>\n",
       "      <th>search_term</th>\n",
       "      <th>placed_higher</th>\n",
       "      <th>stars_delta</th>\n",
       "      <th>reviews_delta</th>\n",
       "      <th>is_shipped_by_amazon</th>\n",
       "      <th>is_sold_by_amazon</th>\n",
       "      <th>is_amazon</th>\n",
       "      <th>is_top_clicked</th>\n",
       "      <th>random_noise</th>\n",
       "      <th>asin_1</th>\n",
       "      <th>asin_2</th>\n",
       "    </tr>\n",
       "  </thead>\n",
       "  <tbody>\n",
       "    <tr>\n",
       "      <th>0</th>\n",
       "      <td>#10 envelope</td>\n",
       "      <td>True</td>\n",
       "      <td>0.0</td>\n",
       "      <td>1654.0</td>\n",
       "      <td>0</td>\n",
       "      <td>2</td>\n",
       "      <td>2</td>\n",
       "      <td>0</td>\n",
       "      <td>-2.569736</td>\n",
       "      <td>B06VVLD2GL</td>\n",
       "      <td>B01D0OANU4</td>\n",
       "    </tr>\n",
       "    <tr>\n",
       "      <th>1</th>\n",
       "      <td>#6 envelope</td>\n",
       "      <td>True</td>\n",
       "      <td>0.1</td>\n",
       "      <td>7844.0</td>\n",
       "      <td>0</td>\n",
       "      <td>2</td>\n",
       "      <td>2</td>\n",
       "      <td>2</td>\n",
       "      <td>0.951532</td>\n",
       "      <td>B06X15WSLL</td>\n",
       "      <td>B07JNXMBSX</td>\n",
       "    </tr>\n",
       "    <tr>\n",
       "      <th>2</th>\n",
       "      <td>1 inch binder</td>\n",
       "      <td>False</td>\n",
       "      <td>0.0</td>\n",
       "      <td>-9383.0</td>\n",
       "      <td>0</td>\n",
       "      <td>0</td>\n",
       "      <td>-2</td>\n",
       "      <td>0</td>\n",
       "      <td>0.618294</td>\n",
       "      <td>B00A45VF2S</td>\n",
       "      <td>B01BRGTWOA</td>\n",
       "    </tr>\n",
       "    <tr>\n",
       "      <th>3</th>\n",
       "      <td>1% milk</td>\n",
       "      <td>False</td>\n",
       "      <td>0.0</td>\n",
       "      <td>-183.0</td>\n",
       "      <td>0</td>\n",
       "      <td>0</td>\n",
       "      <td>0</td>\n",
       "      <td>-2</td>\n",
       "      <td>0.645435</td>\n",
       "      <td>B07W5Z8SJ8</td>\n",
       "      <td>B07WC9MMPD</td>\n",
       "    </tr>\n",
       "    <tr>\n",
       "      <th>4</th>\n",
       "      <td>10 dollar gifts</td>\n",
       "      <td>True</td>\n",
       "      <td>0.8</td>\n",
       "      <td>75410.0</td>\n",
       "      <td>0</td>\n",
       "      <td>2</td>\n",
       "      <td>0</td>\n",
       "      <td>0</td>\n",
       "      <td>-1.075435</td>\n",
       "      <td>B00F4CEHNK</td>\n",
       "      <td>B07FCNYND8</td>\n",
       "    </tr>\n",
       "  </tbody>\n",
       "</table>\n",
       "</div>"
      ],
      "text/plain": [
       "       search_term  placed_higher  stars_delta  reviews_delta  \\\n",
       "0     #10 envelope           True          0.0         1654.0   \n",
       "1      #6 envelope           True          0.1         7844.0   \n",
       "2    1 inch binder          False          0.0        -9383.0   \n",
       "3          1% milk          False          0.0         -183.0   \n",
       "4  10 dollar gifts           True          0.8        75410.0   \n",
       "\n",
       "   is_shipped_by_amazon  is_sold_by_amazon  is_amazon  is_top_clicked  \\\n",
       "0                     0                  2          2               0   \n",
       "1                     0                  2          2               2   \n",
       "2                     0                  0         -2               0   \n",
       "3                     0                  0          0              -2   \n",
       "4                     0                  2          0               0   \n",
       "\n",
       "   random_noise      asin_1      asin_2  \n",
       "0     -2.569736  B06VVLD2GL  B01D0OANU4  \n",
       "1      0.951532  B06X15WSLL  B07JNXMBSX  \n",
       "2      0.618294  B00A45VF2S  B01BRGTWOA  \n",
       "3      0.645435  B07W5Z8SJ8  B07WC9MMPD  \n",
       "4     -1.075435  B00F4CEHNK  B07FCNYND8  "
      ]
     },
     "execution_count": 2,
     "metadata": {},
     "output_type": "execute_result"
    }
   ],
   "source": [
    "# this is the data from the markup audit, downloaded from their github: \n",
    "# https://github.com/the-markup/investigation-amazon-brands \n",
    "data = pd.read_csv('https://www.sapiezynski.com/cs4910/markup/data.csv')\n",
    "data.head()"
   ]
  },
  {
   "cell_type": "markdown",
   "id": "4a1130ef",
   "metadata": {},
   "source": [
    "![features](https://mrkp-static-production.themarkup.org/graphics/amazon-methodology-product-comparison/1634143723511/assets/product-pairs-subtraction-desktop.png)"
   ]
  },
  {
   "cell_type": "code",
   "execution_count": 3,
   "id": "b7af39c9",
   "metadata": {},
   "outputs": [],
   "source": [
    "columns = ['stars_delta', 'reviews_delta', 'is_amazon',\n",
    "        'is_shipped_by_amazon', 'is_sold_by_amazon',\n",
    "        'is_top_clicked', 'placed_higher']"
   ]
  },
  {
   "cell_type": "markdown",
   "id": "f524f7f3",
   "metadata": {},
   "source": [
    "<div style=\"background-color:lightblue; padding:20px\">\n",
    "<h5>Exercise 1</h5>\n",
    "Use a random forest classifier to predict `placed_higher` using the features `is_amazon`,`is_shipped_by_amazon`, `is_sold_by_amazon`,`is_top_clicked`, `stars_delta`, `reviews_delta`. What is the most important feature?\n",
    "</div>"
   ]
  },
  {
   "attachments": {},
   "cell_type": "markdown",
   "id": "982f32f1",
   "metadata": {},
   "source": [
    "You should get that `is_amazon` is the most important feature. How does it translate into the probability of being the top result? RandomForests won't tell us... But logistic regression can.\n",
    "\n",
    "Quick reminder on regression and explainability - here applied to the amazon dataset.\n",
    "\n",
    "**Linear** regression has the following formula:\n",
    "\n",
    "$$ y = \\beta_0 + \\beta_1x_1 + \\beta_2x_2 + ... $$\n",
    "\n",
    "This means that:\n",
    "* when all variables are equal to 0, the outcome variable $y$ is equal to $\\beta_0$, the intercept.\n",
    "* a **unit** change in $x_1$ corresponds to $y$ changing by $\\beta_1$ \n",
    "\n",
    "It might not be a powerful model, but it offers a clear interpretation/explanation in regression problems.\n",
    "\n",
    "**Logistic** regression is mostly used for binary classification and it looks similar to the linear regression, but now the outcome variable is the logarithm of odds of success.\n",
    "\n",
    "$$ ln(\\frac{\\pi}{1-\\pi}) = \\beta_0 + \\beta_1x_1 + \\beta_2x_2 + ... $$\n",
    "\n",
    "where $\\pi$ is the probability of success, so $1-\\pi$ is the probability of failure.\n",
    "\n",
    "Then, a unit change in $x_1$ corresponds to $\\beta_1$ change in log odd ratios, but that is not intuitive at all. Let's rewrite it to calculate the probability directly:\n",
    "\n",
    "$$\\begin{align}\n",
    "ln(\\frac{\\pi}{1-\\pi}) &= \\beta_0 + \\beta_1x_1 + \\beta_2x_2 + ... \\\\\n",
    "\\frac{\\pi}{1-\\pi} &= e^{\\beta_0 + \\beta_1x_1 + \\beta_2x_2 + ...} \\\\\n",
    "{\\pi} &= ({1-\\pi})e^{\\beta_0 + \\beta_1x_1 + \\beta_2x_2 + ...} \\\\\n",
    "{\\pi} &= e^{\\beta_0 + \\beta_1x_1 + \\beta_2x_2 + ...}-\\pi e^{\\beta_0 + \\beta_1x_1 + \\beta_2x_2 + ...}\\\\\n",
    "{\\pi}(1+e^{\\beta_0 + \\beta_1x_1 + \\beta_2x_2 + ...}) &= e^{\\beta_0 + \\beta_1x_1 + \\beta_2x_2 + ...} \\\\\n",
    "{\\pi} &= \\frac{e^{\\beta_0 + \\beta_1x_1 + \\beta_2x_2 + ...}}{1+e^{\\beta_0 + \\beta_1x_1 + \\beta_2x_2 + ...}}\n",
    "\\end{align}$$\n",
    "\n",
    "So, while we cannot directly say from that a unit change of $x_1$ corresponds to a certain change in the probability of the outcome, we can just plug zeros and ones into the equation above and compute the changes."
   ]
  },
  {
   "cell_type": "markdown",
   "id": "1c2e41d8",
   "metadata": {},
   "source": [
    "Let's load the data from scratch and do some cleaning (I'm dividing by two, because The Markup left the values of -2, 0, 2 so they never have a \"unit\" change. If we divide them by two, the unit change actually is meaningful)."
   ]
  },
  {
   "cell_type": "code",
   "execution_count": 4,
   "id": "f2de095a",
   "metadata": {},
   "outputs": [],
   "source": [
    "data = pd.read_csv('https://www.sapiezynski.com/cs4910/markup/data.csv')\n",
    "data['is_shipped_by_amazon'] /= 2\n",
    "data['is_sold_by_amazon'] /= 2\n",
    "data['is_amazon'] /= 2\n",
    "data['is_top_clicked'] /= 2\n",
    "dataset = data[columns]\n",
    "train, test = train_test_split(dataset, test_size=0.2, stratify=dataset['placed_higher'])"
   ]
  },
  {
   "cell_type": "markdown",
   "id": "5649e842",
   "metadata": {},
   "source": [
    "Let's start with a model that only has the intercept (constant) and `is_amazon` as features."
   ]
  },
  {
   "cell_type": "code",
   "execution_count": null,
   "id": "efe4900e",
   "metadata": {},
   "outputs": [],
   "source": [
    "# adding the intercept as a variable (add column of ones to the dataframe)\n",
    "train = add_constant(train)\n",
    "# selecting which features to train on\n",
    "features = ['const', 'is_amazon']\n",
    "# training a logistic regression model. First the dependent (outcome variable), then the features\n",
    "log_reg = sm.Logit(train['placed_higher'], train[features]).fit()"
   ]
  },
  {
   "cell_type": "code",
   "execution_count": null,
   "id": "3d67abac",
   "metadata": {},
   "outputs": [],
   "source": [
    "log_reg.summary()"
   ]
  },
  {
   "cell_type": "markdown",
   "id": "b76a031b",
   "metadata": {},
   "source": [
    "We will mostly be looking at the bottom table.\n",
    "\n",
    "`const` (the intercept) translates to the probability if all other variables are equal to 0\n",
    "\n",
    "$$ p = \\frac{e^{\\beta_{const}}}{1+e^{\\beta_{const}}} $$"
   ]
  },
  {
   "cell_type": "code",
   "execution_count": null,
   "id": "1bbb4193",
   "metadata": {},
   "outputs": [],
   "source": [
    "import numpy as np\n",
    "# the beta coefficients are stored in the .params list, with the constant being first\n",
    "# get the constant out of the fit model:\n",
    "const = log_reg.params[0]\n",
    "\n",
    "print(\"P (placed higher) = %.3f\" %(np.e**const/(1+np.e**const)))"
   ]
  },
  {
   "cell_type": "markdown",
   "id": "7b54c40a",
   "metadata": {},
   "source": [
    "This should be very close to 50%. In our case if all variables are zero, it means that either:\n",
    "1. The products are both from amazon\n",
    "2. The products are both not from amazon\n",
    "\n",
    "We don't have a way to differentiate them, so it's a coin toss (50%)"
   ]
  },
  {
   "cell_type": "markdown",
   "id": "9798f7f7",
   "metadata": {},
   "source": [
    "The other coefficients describe the change in odds that corresponds to a unit change in the variable.\n",
    "* if the coefficient is positive, it means that an **increase** of variable corresponds to an **increase** in the odds of the positive outcome\n",
    "* if the coefficient is negative, it means that an **increase** of variable corresponds to an **decrease** in the odds of the positive outcome\n",
    "\n",
    "\n",
    "So what happens when `is_amazon` is equal to 1, i.e. one product is an amazon product and the other isn't?\n",
    "By looking at the `coef` we already know it's going to go up (because the coefficient is positive). But by How much? Let's calculate:\n",
    "\n",
    "\n",
    "$$ p = \\frac{e^{\\beta_{const} + \\beta_{is\\_amazon}}}{1+e^{\\beta_{const} + \\beta_{is\\_amazon}}} $$"
   ]
  },
  {
   "cell_type": "code",
   "execution_count": null,
   "id": "ff3c8ac1",
   "metadata": {},
   "outputs": [],
   "source": [
    "numerator = np.e**(log_reg.params[0] + log_reg.params[1])\n",
    "print(\"P (placed higher) = %.3f\" %(numerator/(1+numerator)))"
   ]
  },
  {
   "cell_type": "markdown",
   "id": "62ac8941",
   "metadata": {},
   "source": [
    "That means that in this dataset 93\\% of the time we have two products where one is from amazon and the other isn't, it's the amazon product that will be on the first place.\n",
    "\n",
    "Solved? Well no, because maybe this is just because amazon products are better. Let's include the star difference in the analysis to **control** for this:"
   ]
  },
  {
   "cell_type": "code",
   "execution_count": null,
   "id": "1819f862",
   "metadata": {},
   "outputs": [
    {
     "name": "stdout",
     "output_type": "stream",
     "text": [
      "Optimization terminated successfully.\n",
      "         Current function value: 0.494329\n",
      "         Iterations 6\n"
     ]
    },
    {
     "data": {
      "text/html": [
       "<table class=\"simpletable\">\n",
       "<caption>Logit Regression Results</caption>\n",
       "<tr>\n",
       "  <th>Dep. Variable:</th>     <td>placed_higher</td>  <th>  No. Observations:  </th>  <td>  1132</td>  \n",
       "</tr>\n",
       "<tr>\n",
       "  <th>Model:</th>                 <td>Logit</td>      <th>  Df Residuals:      </th>  <td>  1129</td>  \n",
       "</tr>\n",
       "<tr>\n",
       "  <th>Method:</th>                 <td>MLE</td>       <th>  Df Model:          </th>  <td>     2</td>  \n",
       "</tr>\n",
       "<tr>\n",
       "  <th>Date:</th>            <td>Mon, 07 Feb 2022</td> <th>  Pseudo R-squ.:     </th>  <td>0.2868</td>  \n",
       "</tr>\n",
       "<tr>\n",
       "  <th>Time:</th>                <td>11:21:33</td>     <th>  Log-Likelihood:    </th> <td> -559.58</td> \n",
       "</tr>\n",
       "<tr>\n",
       "  <th>converged:</th>             <td>True</td>       <th>  LL-Null:           </th> <td> -784.58</td> \n",
       "</tr>\n",
       "<tr>\n",
       "  <th>Covariance Type:</th>     <td>nonrobust</td>    <th>  LLR p-value:       </th> <td>1.925e-98</td>\n",
       "</tr>\n",
       "</table>\n",
       "<table class=\"simpletable\">\n",
       "<tr>\n",
       "       <td></td>          <th>coef</th>     <th>std err</th>      <th>z</th>      <th>P>|z|</th>  <th>[0.025</th>    <th>0.975]</th>  \n",
       "</tr>\n",
       "<tr>\n",
       "  <th>const</th>       <td>    0.0867</td> <td>    0.073</td> <td>    1.185</td> <td> 0.236</td> <td>   -0.057</td> <td>    0.230</td>\n",
       "</tr>\n",
       "<tr>\n",
       "  <th>is_amazon</th>   <td>    2.4786</td> <td>    0.163</td> <td>   15.202</td> <td> 0.000</td> <td>    2.159</td> <td>    2.798</td>\n",
       "</tr>\n",
       "<tr>\n",
       "  <th>stars_delta</th> <td>   -0.2737</td> <td>    0.241</td> <td>   -1.138</td> <td> 0.255</td> <td>   -0.745</td> <td>    0.198</td>\n",
       "</tr>\n",
       "</table>"
      ],
      "text/plain": [
       "<class 'statsmodels.iolib.summary.Summary'>\n",
       "\"\"\"\n",
       "                           Logit Regression Results                           \n",
       "==============================================================================\n",
       "Dep. Variable:          placed_higher   No. Observations:                 1132\n",
       "Model:                          Logit   Df Residuals:                     1129\n",
       "Method:                           MLE   Df Model:                            2\n",
       "Date:                Mon, 07 Feb 2022   Pseudo R-squ.:                  0.2868\n",
       "Time:                        11:21:33   Log-Likelihood:                -559.58\n",
       "converged:                       True   LL-Null:                       -784.58\n",
       "Covariance Type:            nonrobust   LLR p-value:                 1.925e-98\n",
       "===============================================================================\n",
       "                  coef    std err          z      P>|z|      [0.025      0.975]\n",
       "-------------------------------------------------------------------------------\n",
       "const           0.0867      0.073      1.185      0.236      -0.057       0.230\n",
       "is_amazon       2.4786      0.163     15.202      0.000       2.159       2.798\n",
       "stars_delta    -0.2737      0.241     -1.138      0.255      -0.745       0.198\n",
       "===============================================================================\n",
       "\"\"\""
      ]
     },
     "execution_count": 285,
     "metadata": {},
     "output_type": "execute_result"
    }
   ],
   "source": [
    "features = ['const', 'is_amazon','stars_delta', ]\n",
    "log_reg = sm.Logit(train['placed_higher'], train[features]).fit()\n",
    "log_reg.summary()"
   ]
  },
  {
   "cell_type": "markdown",
   "id": "8b2f1bcb",
   "metadata": {},
   "source": [
    "Now notice the last two columns - that's the 95% confidence interval. If one value is positive, and the other negative, the interval includes 0, which means we can't really tell if the effect is positive, or negative - it's not significant. Turns out, controling for the star rating doesn't change anything.\n",
    "\n",
    "Let's add the review delta:\n",
    "\n",
    "* **Write code to include `reviews_delta`**\n",
    "* Is the `reviews_delta` *important*?"
   ]
  },
  {
   "cell_type": "markdown",
   "id": "673e38da",
   "metadata": {},
   "source": [
    "Let's include the rest of our variables:\n",
    "* **Write code to include the other variables**\n",
    "* Which variable is *important* among those included?\n",
    "* How do you interpret its value? (*Hint*: look at the scenarios when this variable is equal to 0, and to 1)"
   ]
  },
  {
   "cell_type": "markdown",
   "id": "f7f3bad1",
   "metadata": {},
   "source": [
    "What about the predictive performance? The Markup uses RandomForests with hyperparameter tuning to get the best prediction and ends up with 73.2% accuracy. \n",
    "* **Calculate accuracy for your model**\n",
    "* Which model would you give preference and why? "
   ]
  },
  {
   "cell_type": "markdown",
   "id": "38e5905e",
   "metadata": {},
   "source": [
    "The problem that we looked at so far is defined as follows: given the top two items, which one is going to be placed in the first position?\n",
    "\n",
    "Now, let's solve a slightly different problem formulation (not covered in the Markup write up): given characteristics of the product, how likely is it the top product on its search page?"
   ]
  },
  {
   "cell_type": "markdown",
   "id": "4e89f0a7",
   "metadata": {},
   "source": [
    "<div style=\"background-color:lightblue; padding:20px\">\n",
    "<h5>Excercise 2: Interpreting the meaning of logistic regression coefficients</h5>\n",
    "In this exercise you will interpret the values of the coefficients of a logistic regression model that tries to predict whether a product was the top product on its search page.\n",
    "\n",
    "In particular, please answer these questions:\n",
    "1. What is the probability that a hypothetical product with the lowest rating, no reviews, not sold/shipped/produced by amazon, and not among the top clicked products will be placed at the top?\n",
    "1. Increase in which variables corresponds to a higher probability of being placed at the top?\n",
    "1. How do you interpret the `stars` coefficient and its statistical significance?\n",
    "1. If a product receives one more review without changing any other of its characteristics, how does it affect its chances to placed at the top? \n",
    "    * How about 1000000 more reviews?\n",
    "1. What is the probability that a five-star product with 1000 reviews, produced, sold, and shipped by amazon that was among the top clicked results will be placed on the top of the result list? \n",
    "    * Is this number higher, or lower than you expected? Does it change how you interpret the results of the model for only the top two positions? Why?\n",
    "\n",
    "</div>"
   ]
  },
  {
   "cell_type": "code",
   "execution_count": 19,
   "id": "ba7d6914",
   "metadata": {},
   "outputs": [
    {
     "data": {
      "text/html": [
       "<div>\n",
       "<style scoped>\n",
       "    .dataframe tbody tr th:only-of-type {\n",
       "        vertical-align: middle;\n",
       "    }\n",
       "\n",
       "    .dataframe tbody tr th {\n",
       "        vertical-align: top;\n",
       "    }\n",
       "\n",
       "    .dataframe thead th {\n",
       "        text-align: right;\n",
       "    }\n",
       "</style>\n",
       "<table border=\"1\" class=\"dataframe\">\n",
       "  <thead>\n",
       "    <tr style=\"text-align: right;\">\n",
       "      <th></th>\n",
       "      <th>stars</th>\n",
       "      <th>reviews</th>\n",
       "      <th>is_amazon</th>\n",
       "      <th>is_sold_by_amazon</th>\n",
       "      <th>is_shipped_by_amazon</th>\n",
       "      <th>top_clicked</th>\n",
       "      <th>is_top</th>\n",
       "    </tr>\n",
       "  </thead>\n",
       "  <tbody>\n",
       "    <tr>\n",
       "      <th>0</th>\n",
       "      <td>3.8</td>\n",
       "      <td>2120.0</td>\n",
       "      <td>0.0</td>\n",
       "      <td>1.0</td>\n",
       "      <td>1.0</td>\n",
       "      <td>0.0</td>\n",
       "      <td>1.0</td>\n",
       "    </tr>\n",
       "    <tr>\n",
       "      <th>1</th>\n",
       "      <td>3.7</td>\n",
       "      <td>3747.0</td>\n",
       "      <td>0.0</td>\n",
       "      <td>1.0</td>\n",
       "      <td>1.0</td>\n",
       "      <td>1.0</td>\n",
       "      <td>0.0</td>\n",
       "    </tr>\n",
       "    <tr>\n",
       "      <th>2</th>\n",
       "      <td>3.8</td>\n",
       "      <td>6031.0</td>\n",
       "      <td>0.0</td>\n",
       "      <td>1.0</td>\n",
       "      <td>1.0</td>\n",
       "      <td>1.0</td>\n",
       "      <td>0.0</td>\n",
       "    </tr>\n",
       "    <tr>\n",
       "      <th>3</th>\n",
       "      <td>3.8</td>\n",
       "      <td>7017.0</td>\n",
       "      <td>0.0</td>\n",
       "      <td>1.0</td>\n",
       "      <td>1.0</td>\n",
       "      <td>1.0</td>\n",
       "      <td>0.0</td>\n",
       "    </tr>\n",
       "    <tr>\n",
       "      <th>4</th>\n",
       "      <td>3.8</td>\n",
       "      <td>455.0</td>\n",
       "      <td>0.0</td>\n",
       "      <td>1.0</td>\n",
       "      <td>1.0</td>\n",
       "      <td>1.0</td>\n",
       "      <td>0.0</td>\n",
       "    </tr>\n",
       "  </tbody>\n",
       "</table>\n",
       "</div>"
      ],
      "text/plain": [
       "   stars  reviews  is_amazon  is_sold_by_amazon  is_shipped_by_amazon  \\\n",
       "0    3.8   2120.0        0.0                1.0                   1.0   \n",
       "1    3.7   3747.0        0.0                1.0                   1.0   \n",
       "2    3.8   6031.0        0.0                1.0                   1.0   \n",
       "3    3.8   7017.0        0.0                1.0                   1.0   \n",
       "4    3.8    455.0        0.0                1.0                   1.0   \n",
       "\n",
       "   top_clicked  is_top  \n",
       "0          0.0     1.0  \n",
       "1          1.0     0.0  \n",
       "2          1.0     0.0  \n",
       "3          1.0     0.0  \n",
       "4          1.0     0.0  "
      ]
     },
     "execution_count": 19,
     "metadata": {},
     "output_type": "execute_result"
    }
   ],
   "source": [
    "# let's get the data first:\n",
    "dataset = pd.read_csv('https://www.sapiezynski.com/cs4910/markup/dataset_full.csv')\n",
    "# the lowest star rating is 1, not 0, let's adjust the rating such that it starts at 0:\n",
    "dataset['stars'] -= 1\n",
    "dataset.head()"
   ]
  },
  {
   "cell_type": "markdown",
   "id": "b9fb76c2",
   "metadata": {},
   "source": [
    "This dataset is an aggregation of all first search result pages from the Markup audit that had any amazon products on them. The sponsored results are removed.\n",
    "\n",
    "In this dataset each row is a product with its star rating, the number of reviews, the binary indicators of whether it's an amazon product, it's sold or shipped by amazon, whether it was among the most clicked products, and the outcome variable - whether it was the top product in its search results page.\n",
    "\n",
    "We're looking at at most 24 first results, so on average only one in 24 rows is the top placed product:\n"
   ]
  },
  {
   "cell_type": "code",
   "execution_count": null,
   "id": "0cbc06cb",
   "metadata": {},
   "outputs": [],
   "source": [
    "print(\"Fraction of top placed products (is_top = 1): %.2f %%\" %(dataset['is_top'].mean()* 100))"
   ]
  },
  {
   "cell_type": "code",
   "execution_count": null,
   "id": "14a7047e",
   "metadata": {
    "vscode": {
     "languageId": "plaintext"
    }
   },
   "outputs": [],
   "source": [
    "##################\n",
    "## You code here\n",
    "###################"
   ]
  },
  {
   "cell_type": "markdown",
   "id": "74e16d17",
   "metadata": {},
   "source": []
  }
 ],
 "metadata": {
  "kernelspec": {
   "display_name": "Python 3 (ipykernel)",
   "language": "python",
   "name": "python3"
  },
  "language_info": {
   "codemirror_mode": {
    "name": "ipython",
    "version": 3
   },
   "file_extension": ".py",
   "mimetype": "text/x-python",
   "name": "python",
   "nbconvert_exporter": "python",
   "pygments_lexer": "ipython3",
   "version": "3.9.7"
  }
 },
 "nbformat": 4,
 "nbformat_minor": 5
}
